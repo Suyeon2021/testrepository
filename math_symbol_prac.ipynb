{
  "nbformat": 4,
  "nbformat_minor": 0,
  "metadata": {
    "colab": {
      "name": "math_symbol_prac.ipynb",
      "provenance": [],
      "authorship_tag": "ABX9TyMGCFHtRMnxkxa2kaq6gKNl",
      "include_colab_link": true
    },
    "kernelspec": {
      "name": "python3",
      "display_name": "Python 3"
    },
    "language_info": {
      "name": "python"
    }
  },
  "cells": [
    {
      "cell_type": "markdown",
      "metadata": {
        "id": "view-in-github",
        "colab_type": "text"
      },
      "source": [
        "<a href=\"https://colab.research.google.com/github/Suyeon2021/testrepository/blob/main/math_symbol_prac.ipynb\" target=\"_parent\"><img src=\"https://colab.research.google.com/assets/colab-badge.svg\" alt=\"Open In Colab\"/></a>"
      ]
    },
    {
      "cell_type": "markdown",
      "metadata": {
        "id": "XlZCPVCmCn0X"
      },
      "source": [
        "Equations:\n",
        "\n",
        "$y=x^2$\n",
        "\n",
        "$e^{i\\pi} + 1 = 0$\n",
        "\n",
        "$e^x=\\sum_{i=0}^\\infty \\frac{1}{i!}x^i$\n",
        "\n",
        "$\\frac{n!}{k!(n-k)!} = {n \\choose k}$\n",
        "\n",
        "$A_{m,n} =\n",
        " \\begin{pmatrix}\n",
        "  a_{1,1} & a_{1,2} & \\cdots & a_{1,n} \\\\\n",
        "  a_{2,1} & a_{2,2} & \\cdots & a_{2,n} \\\\\n",
        "  \\vdots  & \\vdots  & \\ddots & \\vdots  \\\\\n",
        "  a_{m,1} & a_{m,2} & \\cdots & a_{m,n}\n",
        " \\end{pmatrix}$\n",
        "\n",
        " "
      ]
    },
    {
      "cell_type": "markdown",
      "metadata": {
        "id": "Y1fCpQGtC6ZN"
      },
      "source": [
        "Mean\n",
        "$$\\bar{X} = \\frac{\\sum_{i=1}^{n} x_{i}}{n}$$\n",
        "\n",
        "Variance\n",
        "$$s^{2} = \\frac{SS}{N - 1} = \\frac{\\sum (x_{i} - \\bar{x})^{2}}{N - 1}$$\n",
        "\n",
        "Standard Deviation\n",
        "$$s = \\sqrt{s^{2}} = \\sqrt{\\frac{SS}{N - 1}} = \\sqrt{\\frac{\\sum (x_{i} - \\bar{x})^{2}}{N - 1}}$$\n",
        "\n",
        "Standard Error (of the Mean)\n",
        " $$\\sigma_{\\bar{X}} = \\frac{s}{\\sqrt{N}}$$\n",
        " \n",
        "Confidence Intervals\n",
        "$$\\mathrm{CI} = \\bar{X} \\pm (z_{\\frac{1 - p}{2}} \\times \\sigma_{\\bar{X}})$$\n",
        "\n",
        "\n",
        "\n"
      ]
    },
    {
      "cell_type": "markdown",
      "metadata": {
        "id": "9t-8HQ_PFLSH"
      },
      "source": [
        "$f(n) = n^5 + 4n^2 + 2 |_{n=17}$\n",
        "\n",
        "$\\sqrt[n]{1+x+x^2+x^3+\\dots+x^n}$\n",
        "\n",
        "$\\sum_{i=1}^{10} t_i$\n",
        "\n",
        "\n",
        "$\\int_0^\\infty \\mathrm{e}^{-x}\\,\\mathrm{d}x$\n",
        "\n",
        "\n",
        "$P\\left(A=2\\middle|\\frac{A^2}{B}>4\\right)$\n",
        "\n"
      ]
    }
  ]
}